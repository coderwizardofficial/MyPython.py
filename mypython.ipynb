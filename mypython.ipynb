{
 "cells": [
  {
   "cell_type": "code",
   "execution_count": 6,
   "id": "ab0dbeb9",
   "metadata": {},
   "outputs": [
    {
     "name": "stdout",
     "output_type": "stream",
     "text": [
      "sum is 30\n",
      "diff is -10\n",
      "div is 0.5\n"
     ]
    }
   ],
   "source": [
    "a=10\n",
    "b=20\n",
    "sum=a+b\n",
    "diff=a-b\n",
    "div=a/b\n",
    "print(f\"sum is {sum}\")\n",
    "print(f\"diff is {diff}\")\n",
    "print(f\"div is {div}\")\n",
    "\n"
   ]
  },
  {
   "cell_type": "code",
   "execution_count": 7,
   "id": "c84a83f8",
   "metadata": {},
   "outputs": [
    {
     "name": "stdout",
     "output_type": "stream",
     "text": [
      "type the first name10\n",
      "type the last name20\n",
      "B is great\n"
     ]
    }
   ],
   "source": [
    "a=input(\"type the first num\")\n",
    "b=input(\"type the last num\")\n",
    "num1=int(a)\n",
    "num2=int(b)\n",
    "if (num1>num2):\n",
    "    print(\"a is great\")\n",
    "else:\n",
    "    print(\"B is great\")"
   ]
  },
  {
   "cell_type": "code",
   "execution_count": 8,
   "id": "10bf7f66",
   "metadata": {},
   "outputs": [
    {
     "name": "stdout",
     "output_type": "stream",
     "text": [
      "[2, 2, 1, 4, 5]\n"
     ]
    }
   ],
   "source": [
    "#list examples\n",
    "myList=[2,2,1,4,5,]\n",
    "print(myList)"
   ]
  },
  {
   "cell_type": "code",
   "execution_count": 9,
   "id": "3c0a17ac",
   "metadata": {},
   "outputs": [
    {
     "name": "stdout",
     "output_type": "stream",
     "text": [
      "(3, 1, 5, 3)\n"
     ]
    }
   ],
   "source": [
    "#tuples wxamples \n",
    "tp=(3,1,5,3)\n",
    "print(tp)"
   ]
  },
  {
   "cell_type": "code",
   "execution_count": 10,
   "id": "7c92b7ee",
   "metadata": {},
   "outputs": [
    {
     "name": "stdout",
     "output_type": "stream",
     "text": [
      "b is great\n"
     ]
    }
   ],
   "source": [
    "a=30\n",
    "b=90\n",
    "if a>b:\n",
    "    print(\"a is great\")\n",
    "else:\n",
    "    print(\"b is great\")"
   ]
  },
  {
   "cell_type": "code",
   "execution_count": 11,
   "id": "55f90196",
   "metadata": {},
   "outputs": [
    {
     "name": "stdout",
     "output_type": "stream",
     "text": [
      "2\n",
      "3\n",
      "4\n"
     ]
    }
   ],
   "source": [
    "for i in range(2,5):\n",
    "    print(i)"
   ]
  },
  {
   "cell_type": "code",
   "execution_count": null,
   "id": "004a7382",
   "metadata": {},
   "outputs": [],
   "source": [
    "i=0\n",
    "while i<=5:\n",
    "    print(\"rai\")\n",
    "    i=i+1\n",
    "    "
   ]
  },
  {
   "cell_type": "code",
   "execution_count": null,
   "id": "c20cb5cb",
   "metadata": {},
   "outputs": [],
   "source": [
    "9+2"
   ]
  },
  {
   "cell_type": "code",
   "execution_count": 1,
   "id": "36259535",
   "metadata": {},
   "outputs": [
    {
     "data": {
      "text/plain": [
       "1.0"
      ]
     },
     "execution_count": 1,
     "metadata": {},
     "output_type": "execute_result"
    }
   ],
   "source": [
    "3/3"
   ]
  },
  {
   "cell_type": "code",
   "execution_count": 13,
   "id": "66848ad4",
   "metadata": {},
   "outputs": [],
   "source": [
    "def my_func(name='default name'):\n",
    "            print('hello '+name)"
   ]
  },
  {
   "cell_type": "code",
   "execution_count": 14,
   "id": "d970acf3",
   "metadata": {},
   "outputs": [
    {
     "name": "stdout",
     "output_type": "stream",
     "text": [
      "hello default name\n"
     ]
    }
   ],
   "source": [
    "my_func()"
   ]
  },
  {
   "cell_type": "code",
   "execution_count": 27,
   "id": "96d1e461",
   "metadata": {},
   "outputs": [],
   "source": [
    "def square(num):\n",
    "    return num**2"
   ]
  },
  {
   "cell_type": "code",
   "execution_count": 30,
   "id": "4ea23d8f",
   "metadata": {},
   "outputs": [],
   "source": [
    "ouput = square(2)"
   ]
  },
  {
   "cell_type": "code",
   "execution_count": 31,
   "id": "9d391342",
   "metadata": {},
   "outputs": [
    {
     "ename": "NameError",
     "evalue": "name 'output' is not defined",
     "output_type": "error",
     "traceback": [
      "\u001b[0;31m---------------------------------------------------------------------------\u001b[0m",
      "\u001b[0;31mNameError\u001b[0m                                 Traceback (most recent call last)",
      "Input \u001b[0;32mIn [31]\u001b[0m, in \u001b[0;36m<cell line: 1>\u001b[0;34m()\u001b[0m\n\u001b[0;32m----> 1\u001b[0m \u001b[43moutput\u001b[49m\n",
      "\u001b[0;31mNameError\u001b[0m: name 'output' is not defined"
     ]
    }
   ],
   "source": []
  },
  {
   "cell_type": "code",
   "execution_count": 32,
   "id": "f821dd91",
   "metadata": {},
   "outputs": [],
   "source": [
    "def num(var):\n",
    "    return var*3"
   ]
  },
  {
   "cell_type": "code",
   "execution_count": 33,
   "id": "ccd44d9a",
   "metadata": {},
   "outputs": [
    {
     "data": {
      "text/plain": [
       "6"
      ]
     },
     "execution_count": 33,
     "metadata": {},
     "output_type": "execute_result"
    }
   ],
   "source": [
    "num(2)"
   ]
  },
  {
   "cell_type": "code",
   "execution_count": 34,
   "id": "2836cfdc",
   "metadata": {},
   "outputs": [],
   "source": [
    "def num1(mynum):\n",
    "    return mynum**2"
   ]
  },
  {
   "cell_type": "code",
   "execution_count": 36,
   "id": "48cef103",
   "metadata": {},
   "outputs": [
    {
     "data": {
      "text/plain": [
       "9"
      ]
     },
     "execution_count": 36,
     "metadata": {},
     "output_type": "execute_result"
    }
   ],
   "source": [
    "num1(3)"
   ]
  },
  {
   "cell_type": "code",
   "execution_count": 37,
   "id": "3d290412",
   "metadata": {},
   "outputs": [],
   "source": [
    "def num2(var):\n",
    "    return 3+2"
   ]
  },
  {
   "cell_type": "code",
   "execution_count": 38,
   "id": "d4188fb9",
   "metadata": {},
   "outputs": [
    {
     "data": {
      "text/plain": [
       "5"
      ]
     },
     "execution_count": 38,
     "metadata": {},
     "output_type": "execute_result"
    }
   ],
   "source": [
    "num2(2)"
   ]
  },
  {
   "cell_type": "code",
   "execution_count": 39,
   "id": "f7e8c0cd",
   "metadata": {},
   "outputs": [],
   "source": [
    "s='pramod'"
   ]
  },
  {
   "cell_type": "code",
   "execution_count": 40,
   "id": "a433456a",
   "metadata": {},
   "outputs": [
    {
     "data": {
      "text/plain": [
       "'PRAMOD'"
      ]
     },
     "execution_count": 40,
     "metadata": {},
     "output_type": "execute_result"
    }
   ],
   "source": [
    "s.upper()"
   ]
  },
  {
   "cell_type": "code",
   "execution_count": 1,
   "id": "57ad13b3",
   "metadata": {},
   "outputs": [],
   "source": [
    "num_list = [3,2,3]"
   ]
  },
  {
   "cell_type": "code",
   "execution_count": 2,
   "id": "46cab9c1",
   "metadata": {},
   "outputs": [],
   "source": [
    "import numpy as np"
   ]
  },
  {
   "cell_type": "code",
   "execution_count": 3,
   "id": "dd2d5d54",
   "metadata": {},
   "outputs": [],
   "source": [
    "arr = np.array(num_list)"
   ]
  },
  {
   "cell_type": "code",
   "execution_count": 4,
   "id": "d3687454",
   "metadata": {},
   "outputs": [
    {
     "data": {
      "text/plain": [
       "array([3, 2, 3])"
      ]
     },
     "execution_count": 4,
     "metadata": {},
     "output_type": "execute_result"
    }
   ],
   "source": [
    "arr"
   ]
  },
  {
   "cell_type": "code",
   "execution_count": 6,
   "id": "5c44d80a",
   "metadata": {},
   "outputs": [],
   "source": [
    "import numpy as np"
   ]
  },
  {
   "cell_type": "code",
   "execution_count": 10,
   "id": "4277ca4a",
   "metadata": {},
   "outputs": [
    {
     "data": {
      "text/plain": [
       "5"
      ]
     },
     "execution_count": 10,
     "metadata": {},
     "output_type": "execute_result"
    }
   ],
   "source": [
    "2+3"
   ]
  },
  {
   "cell_type": "code",
   "execution_count": 16,
   "id": "c29203d8",
   "metadata": {},
   "outputs": [],
   "source": [
    "import numpy as np\n",
    "import pandas as pd"
   ]
  },
  {
   "cell_type": "code",
   "execution_count": 17,
   "id": "e244ab7b",
   "metadata": {},
   "outputs": [],
   "source": [
    "from numpy.random import randn"
   ]
  },
  {
   "cell_type": "code",
   "execution_count": 18,
   "id": "411c8b9d",
   "metadata": {},
   "outputs": [],
   "source": [
    "np.random.seed(101)"
   ]
  },
  {
   "cell_type": "code",
   "execution_count": 19,
   "id": "0abfa4da",
   "metadata": {},
   "outputs": [],
   "source": [
    "df = pd.DataFrame(randn(5,5),['A', 'B', 'C', 'D', 'E'],['P','Q','R','S','T'])"
   ]
  },
  {
   "cell_type": "code",
   "execution_count": 21,
   "id": "c68e4f8a",
   "metadata": {},
   "outputs": [
    {
     "data": {
      "text/html": [
       "<div>\n",
       "<style scoped>\n",
       "    .dataframe tbody tr th:only-of-type {\n",
       "        vertical-align: middle;\n",
       "    }\n",
       "\n",
       "    .dataframe tbody tr th {\n",
       "        vertical-align: top;\n",
       "    }\n",
       "\n",
       "    .dataframe thead th {\n",
       "        text-align: right;\n",
       "    }\n",
       "</style>\n",
       "<table border=\"1\" class=\"dataframe\">\n",
       "  <thead>\n",
       "    <tr style=\"text-align: right;\">\n",
       "      <th></th>\n",
       "      <th>P</th>\n",
       "      <th>Q</th>\n",
       "      <th>R</th>\n",
       "      <th>S</th>\n",
       "      <th>T</th>\n",
       "    </tr>\n",
       "  </thead>\n",
       "  <tbody>\n",
       "    <tr>\n",
       "      <th>A</th>\n",
       "      <td>2.706850</td>\n",
       "      <td>0.628133</td>\n",
       "      <td>0.907969</td>\n",
       "      <td>0.503826</td>\n",
       "      <td>0.651118</td>\n",
       "    </tr>\n",
       "    <tr>\n",
       "      <th>B</th>\n",
       "      <td>-0.319318</td>\n",
       "      <td>-0.848077</td>\n",
       "      <td>0.605965</td>\n",
       "      <td>-2.018168</td>\n",
       "      <td>0.740122</td>\n",
       "    </tr>\n",
       "    <tr>\n",
       "      <th>C</th>\n",
       "      <td>0.528813</td>\n",
       "      <td>-0.589001</td>\n",
       "      <td>0.188695</td>\n",
       "      <td>-0.758872</td>\n",
       "      <td>-0.933237</td>\n",
       "    </tr>\n",
       "    <tr>\n",
       "      <th>D</th>\n",
       "      <td>0.955057</td>\n",
       "      <td>0.190794</td>\n",
       "      <td>1.978757</td>\n",
       "      <td>2.605967</td>\n",
       "      <td>0.683509</td>\n",
       "    </tr>\n",
       "    <tr>\n",
       "      <th>E</th>\n",
       "      <td>0.302665</td>\n",
       "      <td>1.693723</td>\n",
       "      <td>-1.706086</td>\n",
       "      <td>-1.159119</td>\n",
       "      <td>-0.134841</td>\n",
       "    </tr>\n",
       "  </tbody>\n",
       "</table>\n",
       "</div>"
      ],
      "text/plain": [
       "          P         Q         R         S         T\n",
       "A  2.706850  0.628133  0.907969  0.503826  0.651118\n",
       "B -0.319318 -0.848077  0.605965 -2.018168  0.740122\n",
       "C  0.528813 -0.589001  0.188695 -0.758872 -0.933237\n",
       "D  0.955057  0.190794  1.978757  2.605967  0.683509\n",
       "E  0.302665  1.693723 -1.706086 -1.159119 -0.134841"
      ]
     },
     "execution_count": 21,
     "metadata": {},
     "output_type": "execute_result"
    }
   ],
   "source": [
    "df"
   ]
  },
  {
   "cell_type": "code",
   "execution_count": null,
   "id": "65a21846",
   "metadata": {},
   "outputs": [],
   "source": []
  }
 ],
 "metadata": {
  "kernelspec": {
   "display_name": "Python 3 (ipykernel)",
   "language": "python",
   "name": "python3"
  },
  "language_info": {
   "codemirror_mode": {
    "name": "ipython",
    "version": 3
   },
   "file_extension": ".py",
   "mimetype": "text/x-python",
   "name": "python",
   "nbconvert_exporter": "python",
   "pygments_lexer": "ipython3",
   "version": "3.9.12"
  }
 },
 "nbformat": 4,
 "nbformat_minor": 5
}
